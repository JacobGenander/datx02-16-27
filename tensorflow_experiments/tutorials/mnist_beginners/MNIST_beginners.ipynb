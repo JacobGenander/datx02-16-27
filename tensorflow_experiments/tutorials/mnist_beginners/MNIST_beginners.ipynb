{
 "cells": [
  {
   "cell_type": "markdown",
   "metadata": {},
   "source": [
    "# MNIST For ML Beginners\n",
    "Copied from https://www.tensorflow.org/versions/0.6.0/tutorials/mnist/beginners/index.html"
   ]
  },
  {
   "cell_type": "code",
   "execution_count": 2,
   "metadata": {
    "collapsed": false
   },
   "outputs": [
    {
     "name": "stdout",
     "output_type": "stream",
     "text": [
      "Successfully downloaded train-images-idx3-ubyte.gz 9912422 bytes.\n",
      "Extracting MNIST_data/train-images-idx3-ubyte.gz\n",
      "Successfully downloaded train-labels-idx1-ubyte.gz 28881 bytes.\n",
      "Extracting MNIST_data/train-labels-idx1-ubyte.gz\n",
      "Successfully downloaded t10k-images-idx3-ubyte.gz 1648877 bytes.\n",
      "Extracting MNIST_data/t10k-images-idx3-ubyte.gz\n",
      "Successfully downloaded t10k-labels-idx1-ubyte.gz 4542 bytes.\n",
      "Extracting MNIST_data/t10k-labels-idx1-ubyte.gz\n"
     ]
    }
   ],
   "source": [
    "# Import helper functions to download and extract the dataset\n",
    "import tensorflow.examples.tutorials.mnist.input_data as input_data\n",
    "\n",
    "# Download and extract the dataset\n",
    "mnist = input_data.read_data_sets(\"MNIST_data/\", one_hot=True)"
   ]
  },
  {
   "cell_type": "markdown",
   "metadata": {},
   "source": [
    "## The dataset\n",
    "\n",
    "The dataset consists of images of handwritten digits and a label indicating what digit it is.\n",
    "\n",
    "### Images\n",
    "\n",
    "The set is devided into three parts:\n",
    "\n",
    "1. mnist.train: 55,000 points of training data\n",
    "2. mnist.test: 10,000 points of test data\n",
    "3. mnist.validation: 5,000 points of validation data\n",
    "\n",
    "The images are 28x28 pixels, but are represented as a single line of 784 pixels. these lines are represented in a tensor (n-dimensional array) with the shape [55000, 784].\n",
    "\n",
    " - The first dimension indexes the images\n",
    " - The second dimension indexes the pixels\n",
    " - The pixels have a intensity between 0 and 1. (1 is black)\n",
    "\n",
    "### Labels\n",
    "\n",
    "The labels are numbers between 0 and 9.\n",
    "\n",
    "\"One-hot-vectors\" will be used to represent the labels. These are of shape [55000, 10] and contains floats\n",
    "\n",
    "The idea is that only one dimension (the one which represents the corresponding number) is one at the same time.\n",
    "\n",
    "Note!\n",
    "    :Dimension above refers to each index 0 to 9 in the label vector. Think of these vectors as vectors in a ten dimensional room where each value represents the length in a specific dimension\n"
   ]
  },
  {
   "cell_type": "markdown",
   "metadata": {},
   "source": [
    "## Softmax Regressions\n",
    "\n",
    "Every image in the MNIST dataset is a digit. We want the model to give us probabilities (how confident it is) of how likely the image is a certain digit.\n",
    "\n",
    "A softmax regression is performed in two steps:\n",
    "\n",
    "1. The evidence of the input being in certain classes is added up\n",
    "2. The evidence is converted to probabilities\n",
    "\n",
    "The evidence in this case is a weighted sum of the pizel intensities. That is:\n",
    "\n",
    " - The weight is negative if the pixels intensity is evidence against the image beeing in that class\n",
    " - The weight is positive of the pizels intensity is evedence for the image beeing in that class\n",
    "\n",
    "The weights for all the pizels in the image are then summed to form the evidence\n",
    "\n",
    "$$\\mathrm{evidence}_i = \\sum_j W_{i,j}x_j+b_i$$\n",
    "\n"
   ]
  },
  {
   "cell_type": "markdown",
   "metadata": {},
   "source": [
    "## Implementing the Regression\n",
    "\n",
    "TensorFlow defines a graph of interacting operations that run entierly outside Python. This is to avoid the overhead of switching back and forth between python and whatever framework you are using."
   ]
  },
  {
   "cell_type": "code",
   "execution_count": 3,
   "metadata": {
    "collapsed": true
   },
   "outputs": [],
   "source": [
    "import tensorflow as tf\n",
    "\n",
    "# Create a placeholder for the input data. Note that this placeholder does not yet contain a value\n",
    "# (it just contains a description of how such a value should be created?)\n",
    "# The first dimension is 'None' as it can be of any length\n",
    "x = tf.placeholder(tf.float32, [None, 784])"
   ]
  },
  {
   "cell_type": "markdown",
   "metadata": {},
   "source": [
    "## Variables\n",
    "A `Variable` is a modifiable tensor that lives in TensorFlow's graph of interacting operations. It can be used and even modified by the computation.\n",
    "\n",
    "The weights and biases will be implemented using `Variables`.\n",
    "\n",
    "Note that the Variables below does not yet contain any valuable data, we just defined thier shape"
   ]
  },
  {
   "cell_type": "code",
   "execution_count": 7,
   "metadata": {
    "collapsed": true
   },
   "outputs": [],
   "source": [
    "# Weight vector  \n",
    "W = tf.Variable(tf.zeros([784, 10]))\n",
    "# Bias vector\n",
    "b = tf.Variable(tf.zeros([10]))"
   ]
  },
  {
   "cell_type": "markdown",
   "metadata": {},
   "source": [
    "## Implementing the model\n",
    "\n",
    "We must now define how the values that we defined relates to each other\n",
    "\n",
    "The model that we are using (neural network with softmax regression) is already defined in tensorflow"
   ]
  },
  {
   "cell_type": "code",
   "execution_count": 8,
   "metadata": {
    "collapsed": false
   },
   "outputs": [],
   "source": [
    "y = tf.nn.softmax(tf.matmul(x, W) + b)"
   ]
  },
  {
   "cell_type": "markdown",
   "metadata": {},
   "source": [
    "## Training\n",
    "\n",
    "When training a model one must first decide what it means to be \"good\". Or more commonly in machine learning, what it means to be bad.\n",
    "\n",
    "This is done by implementing a mathematical function called the \"cost\" or \"loss\", which is then minimized.\n"
   ]
  },
  {
   "cell_type": "code",
   "execution_count": 9,
   "metadata": {
    "collapsed": true
   },
   "outputs": [],
   "source": [
    "# Placeholder for the correct answers\n",
    "y_ = tf.placeholder(tf.float32, [None, 10])\n",
    "\n",
    "# Cross entropy\n",
    "cross_entropy = -tf.reduce_sum(y_*tf.log(y))\n",
    "\n",
    "# Training step\n",
    "train_step = tf.train.GradientDescentOptimizer(0.01).minimize(cross_entropy)"
   ]
  },
  {
   "cell_type": "code",
   "execution_count": 10,
   "metadata": {
    "collapsed": true
   },
   "outputs": [],
   "source": [
    "# Training\n",
    "init = tf.initialize_all_variables()\n",
    "sess = tf.Session()\n",
    "sess.run(init)\n",
    "\n",
    "for i in range(1000):\n",
    "  batch_xs, batch_ys = mnist.train.next_batch(100)\n",
    "  sess.run(train_step, feed_dict={x: batch_xs, y_: batch_ys})"
   ]
  },
  {
   "cell_type": "code",
   "execution_count": 12,
   "metadata": {
    "collapsed": false
   },
   "outputs": [
    {
     "name": "stdout",
     "output_type": "stream",
     "text": [
      "0.9148\n"
     ]
    }
   ],
   "source": [
    "# Evaluation\n",
    "correct_prediction = tf.equal(tf.argmax(y,1), tf.argmax(y_,1))\n",
    "accuracy = tf.reduce_mean(tf.cast(correct_prediction, \"float\"))\n",
    "print (sess.run(accuracy, feed_dict={x: mnist.test.images, y_: mnist.test.labels}))"
   ]
  },
  {
   "cell_type": "code",
   "execution_count": null,
   "metadata": {
    "collapsed": true
   },
   "outputs": [],
   "source": []
  }
 ],
 "metadata": {
  "kernelspec": {
   "display_name": "Python 3",
   "language": "python",
   "name": "python3"
  },
  "language_info": {
   "codemirror_mode": {
    "name": "ipython",
    "version": 3
   },
   "file_extension": ".py",
   "mimetype": "text/x-python",
   "name": "python",
   "nbconvert_exporter": "python",
   "pygments_lexer": "ipython3",
   "version": "3.5.1"
  }
 },
 "nbformat": 4,
 "nbformat_minor": 0
}
